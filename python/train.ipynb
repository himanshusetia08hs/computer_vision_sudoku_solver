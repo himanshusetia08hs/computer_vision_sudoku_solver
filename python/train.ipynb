{
 "cells": [
  {
   "cell_type": "code",
   "execution_count": 23,
   "metadata": {},
   "outputs": [
    {
     "name": "stdout",
     "output_type": "stream",
     "text": [
      "The tensorboard extension is already loaded. To reload it, use:\n",
      "  %reload_ext tensorboard\n"
     ]
    }
   ],
   "source": [
    "# Load the TensorBoard notebook extension\n",
    "%load_ext tensorboard"
   ]
  },
  {
   "cell_type": "code",
   "execution_count": 1,
   "metadata": {},
   "outputs": [],
   "source": [
    "import tensorflow as tf\n",
    "import datetime\n",
    "from tensorflow import keras\n",
    "from keras.models import Sequential\n",
    "from keras.layers import Dense, Conv2D, Flatten, Dropout, MaxPooling2D\n",
    "from keras.preprocessing.image import ImageDataGenerator\n",
    "from keras import regularizers\n",
    "import matplotlib.pyplot as plt\n",
    "# local imports\n",
    "from lib.plot_images import plot_images\n",
    "from lib.confusion_matrix import create_confusion_matrix_callback"
   ]
  },
  {
   "cell_type": "markdown",
   "metadata": {},
   "source": [
    "# Clear down the log files from all runs\n",
    "Use this to clear out all the data that tensorboard shows"
   ]
  },
  {
   "cell_type": "code",
   "execution_count": 2,
   "metadata": {},
   "outputs": [
    {
     "name": "stderr",
     "output_type": "stream",
     "text": [
      "'rm' is not recognized as an internal or external command,\n",
      "operable program or batch file.\n"
     ]
    }
   ],
   "source": [
    "!rm -rf ./logs/ "
   ]
  },
  {
   "cell_type": "markdown",
   "metadata": {},
   "source": [
    "# Training hyperparameters"
   ]
  },
  {
   "cell_type": "code",
   "execution_count": 3,
   "metadata": {},
   "outputs": [],
   "source": [
    "batch_size = 32\n",
    "epochs = 100"
   ]
  },
  {
   "cell_type": "markdown",
   "metadata": {},
   "source": [
    "# This must match what is used in the javascript code"
   ]
  },
  {
   "cell_type": "code",
   "execution_count": 4,
   "metadata": {},
   "outputs": [],
   "source": [
    "IMG_HEIGHT = 20\n",
    "IMG_WIDTH = 20"
   ]
  },
  {
   "cell_type": "markdown",
   "metadata": {},
   "source": [
    "# Data Generators\n",
    "We defined two data generators, one that augments the data to make our training more general and one that just scales and centers the data."
   ]
  },
  {
   "cell_type": "code",
   "execution_count": 5,
   "metadata": {},
   "outputs": [],
   "source": [
    "augmented_image_gen = ImageDataGenerator(\n",
    "    rotation_range=2,\n",
    "    width_shift_range=.1,\n",
    "    height_shift_range=.1,\n",
    "    zoom_range=0.1,\n",
    "    shear_range=2,\n",
    "    brightness_range=[0.9, 1.1],\n",
    "    validation_split=0.2,\n",
    "    samplewise_center=True,\n",
    "    samplewise_std_normalization=True)\n",
    "\n",
    "normal_image_gen = ImageDataGenerator(\n",
    "    validation_split=0.2,\n",
    "    samplewise_center=True,\n",
    "    samplewise_std_normalization=True\n",
    ")"
   ]
  },
  {
   "cell_type": "markdown",
   "metadata": {},
   "source": [
    "# Load in the data\n",
    "For the training data and validation data it's important that they have the same seed so we get the correct validation subset for the training subset."
   ]
  },
  {
   "cell_type": "code",
   "execution_count": 7,
   "metadata": {},
   "outputs": [
    {
     "name": "stdout",
     "output_type": "stream",
     "text": [
      "Found 2232 images belonging to 9 classes.\n",
      "Found 554 images belonging to 9 classes.\n",
      "Found 554 images belonging to 9 classes.\n"
     ]
    }
   ],
   "source": [
    "train_data_gen = augmented_image_gen.flow_from_directory(batch_size=batch_size,\n",
    "                                                     directory=\"training_data\",\n",
    "                                                     color_mode=\"grayscale\",\n",
    "                                                     shuffle=True,\n",
    "                                                     target_size=(IMG_HEIGHT, IMG_WIDTH),\n",
    "                                                     class_mode=\"categorical\",\n",
    "                                                     seed=65657867,\n",
    "                                                     subset='training')\n",
    "val_data_gen = normal_image_gen.flow_from_directory(batch_size=batch_size,\n",
    "                                                     directory=\"training_data\",\n",
    "                                                     color_mode=\"grayscale\",\n",
    "                                                     shuffle=True,\n",
    "                                                     target_size=(IMG_HEIGHT, IMG_WIDTH),\n",
    "                                                     class_mode=\"categorical\",\n",
    "                                                     seed=65657867,\n",
    "                                                     subset='validation')\n",
    "confusion_data_gen = normal_image_gen.flow_from_directory(batch_size=train_data_gen.samples,\n",
    "                                                     directory=\"training_data\",\n",
    "                                                     color_mode=\"grayscale\",\n",
    "                                                     shuffle=False,\n",
    "                                                     target_size=(IMG_HEIGHT, IMG_WIDTH),\n",
    "                                                     class_mode=\"categorical\",\n",
    "                                                     seed=65657867,\n",
    "                                                     subset='validation')"
   ]
  },
  {
   "cell_type": "code",
   "execution_count": 8,
   "metadata": {},
   "outputs": [
    {
     "data": {
      "image/png": "[encoded data removed]",
      "text/plain": [
       "<Figure size 1440x1440 with 5 Axes>"
      ]
     },
     "metadata": {
      "needs_background": "light"
     },
     "output_type": "display_data"
    }
   ],
   "source": [
    "sample_training_images, _ = next(train_data_gen)\n",
    "plot_images(sample_training_images[:5], IMG_WIDTH, IMG_HEIGHT)"
   ]
  },
  {
   "cell_type": "markdown",
   "metadata": {},
   "source": [
    "# Our very simple model\n",
    "A single convolution layer, followed by a dense layer followed by the output layer.\n",
    "We're using linear regularisation and dropouts to prevent overfitting of the training data."
   ]
  },
  {
   "cell_type": "code",
   "execution_count": 9,
   "metadata": {},
   "outputs": [],
   "source": [
    "model = Sequential([\n",
    "    Conv2D(16, 3, \n",
    "           padding='same',\n",
    "           activation='relu',\n",
    "           kernel_regularizer=regularizers.l2(0.0001),\n",
    "           input_shape=(IMG_HEIGHT, IMG_WIDTH , 1)),\n",
    "    MaxPooling2D(),\n",
    "    Dropout(0.2),\n",
    "    Flatten(),\n",
    "    Dense(\n",
    "        50,\n",
    "        activation='relu',\n",
    "        kernel_regularizer=regularizers.l2(0.0001)\n",
    "    ),\n",
    "    Dropout(0.2),\n",
    "    Dense(9, activation='softmax')\n",
    "])\n"
   ]
  },
  {
   "cell_type": "markdown",
   "metadata": {},
   "source": [
    "# Logging to tensorboard\n",
    "We log the training stats along with the confusion matrix of the test data - should we be using the validation data for this?"
   ]
  },
  {
   "cell_type": "code",
   "execution_count": 10,
   "metadata": {},
   "outputs": [],
   "source": [
    "log_dir = \"logs/fit/\" + datetime.datetime.now().strftime(\"%Y%m%d-%H%M%S\")\n",
    "log_confusion_matrix = create_confusion_matrix_callback(model, confusion_data_gen, log_dir)\n",
    "cm_callback = tf.keras.callbacks.LambdaCallback(on_epoch_end=log_confusion_matrix)\n",
    "log_dir = \"logs/fit/\" + datetime.datetime.now().strftime(\"%Y%m%d-%H%M%S\")\n",
    "tensorboard_callback = tf.keras.callbacks.TensorBoard(log_dir=log_dir, histogram_freq=1)"
   ]
  },
  {
   "cell_type": "markdown",
   "metadata": {},
   "source": [
    "# Show tensorboard inline"
   ]
  },
  {
   "cell_type": "code",
   "execution_count": 11,
   "metadata": {},
   "outputs": [
    {
     "name": "stderr",
     "output_type": "stream",
     "text": [
      "UsageError: Line magic function `%tensorboard` not found.\n"
     ]
    }
   ],
   "source": [
    "# launch tensorboard inline with the workbook\n",
    "%tensorboard --logdir logs"
   ]
  },
  {
   "cell_type": "markdown",
   "metadata": {},
   "source": [
    "# Do the actual training"
   ]
  },
  {
   "cell_type": "code",
   "execution_count": 12,
   "metadata": {},
   "outputs": [
    {
     "name": "stderr",
     "output_type": "stream",
     "text": [
      "C:\\Users\\admin\\AppData\\Local\\Temp\\ipykernel_1536\\4098809375.py:5: UserWarning: `Model.fit_generator` is deprecated and will be removed in a future version. Please use `Model.fit`, which supports generators.\n",
      "  history = model.fit_generator(\n"
     ]
    },
    {
     "name": "stdout",
     "output_type": "stream",
     "text": [
      "Epoch 1/100\n",
      "69/69 [==============================] - 17s 217ms/step - loss: 0.9701 - accuracy: 0.6950 - val_loss: 0.0716 - val_accuracy: 0.9926\n",
      "Epoch 2/100\n",
      "69/69 [==============================] - 4s 52ms/step - loss: 0.2845 - accuracy: 0.9123 - val_loss: 0.0342 - val_accuracy: 0.9926\n",
      "Epoch 3/100\n",
      "69/69 [==============================] - 4s 55ms/step - loss: 0.1912 - accuracy: 0.9427 - val_loss: 0.0291 - val_accuracy: 0.9963\n",
      "Epoch 4/100\n",
      "69/69 [==============================] - 4s 51ms/step - loss: 0.1689 - accuracy: 0.9536 - val_loss: 0.0278 - val_accuracy: 0.9945\n",
      "Epoch 5/100\n",
      "69/69 [==============================] - 4s 56ms/step - loss: 0.1329 - accuracy: 0.9650 - val_loss: 0.0328 - val_accuracy: 0.9926\n",
      "Epoch 6/100\n",
      "69/69 [==============================] - 5s 74ms/step - loss: 0.1350 - accuracy: 0.9714 - val_loss: 0.0263 - val_accuracy: 0.9963\n",
      "Epoch 7/100\n",
      "69/69 [==============================] - 4s 64ms/step - loss: 0.1150 - accuracy: 0.9700 - val_loss: 0.0183 - val_accuracy: 0.9982\n",
      "Epoch 8/100\n",
      "69/69 [==============================] - 4s 57ms/step - loss: 0.1026 - accuracy: 0.9723 - val_loss: 0.0228 - val_accuracy: 0.9963\n",
      "Epoch 9/100\n",
      "69/69 [==============================] - 4s 52ms/step - loss: 0.1010 - accuracy: 0.9732 - val_loss: 0.0221 - val_accuracy: 0.9963\n",
      "Epoch 10/100\n",
      "69/69 [==============================] - 4s 58ms/step - loss: 0.0897 - accuracy: 0.9755 - val_loss: 0.0182 - val_accuracy: 0.9982\n",
      "Epoch 11/100\n",
      "69/69 [==============================] - 3s 47ms/step - loss: 0.0842 - accuracy: 0.9805 - val_loss: 0.0184 - val_accuracy: 0.9982\n",
      "Epoch 12/100\n",
      "69/69 [==============================] - 4s 52ms/step - loss: 0.0907 - accuracy: 0.9759 - val_loss: 0.0191 - val_accuracy: 0.9982\n",
      "Epoch 13/100\n",
      "69/69 [==============================] - 3s 43ms/step - loss: 0.0810 - accuracy: 0.9805 - val_loss: 0.0194 - val_accuracy: 0.9963\n",
      "Epoch 14/100\n",
      "69/69 [==============================] - 3s 43ms/step - loss: 0.0641 - accuracy: 0.9845 - val_loss: 0.0175 - val_accuracy: 1.0000\n",
      "Epoch 15/100\n",
      "69/69 [==============================] - 3s 44ms/step - loss: 0.0647 - accuracy: 0.9841 - val_loss: 0.0170 - val_accuracy: 1.0000\n",
      "Epoch 16/100\n",
      "69/69 [==============================] - 3s 44ms/step - loss: 0.0746 - accuracy: 0.9845 - val_loss: 0.0162 - val_accuracy: 1.0000\n",
      "Epoch 17/100\n",
      "69/69 [==============================] - 4s 55ms/step - loss: 0.0537 - accuracy: 0.9868 - val_loss: 0.0177 - val_accuracy: 1.0000\n",
      "Epoch 18/100\n",
      "69/69 [==============================] - 5s 67ms/step - loss: 0.0678 - accuracy: 0.9818 - val_loss: 0.0169 - val_accuracy: 1.0000\n",
      "Epoch 19/100\n",
      "69/69 [==============================] - 3s 43ms/step - loss: 0.0674 - accuracy: 0.9832 - val_loss: 0.0174 - val_accuracy: 1.0000\n",
      "Epoch 20/100\n",
      "69/69 [==============================] - 3s 42ms/step - loss: 0.0715 - accuracy: 0.9818 - val_loss: 0.0190 - val_accuracy: 1.0000\n",
      "Epoch 21/100\n",
      "69/69 [==============================] - 4s 62ms/step - loss: 0.0627 - accuracy: 0.9855 - val_loss: 0.0185 - val_accuracy: 1.0000\n",
      "Epoch 22/100\n",
      "69/69 [==============================] - 5s 70ms/step - loss: 0.0580 - accuracy: 0.9886 - val_loss: 0.0207 - val_accuracy: 0.9982\n",
      "Epoch 23/100\n",
      "69/69 [==============================] - 5s 70ms/step - loss: 0.0589 - accuracy: 0.9859 - val_loss: 0.0229 - val_accuracy: 0.9982\n",
      "Epoch 24/100\n",
      "69/69 [==============================] - 5s 71ms/step - loss: 0.0622 - accuracy: 0.9877 - val_loss: 0.0189 - val_accuracy: 1.0000\n",
      "Epoch 25/100\n",
      "69/69 [==============================] - 5s 66ms/step - loss: 0.0517 - accuracy: 0.9877 - val_loss: 0.0185 - val_accuracy: 1.0000\n",
      "Epoch 26/100\n",
      "69/69 [==============================] - 4s 61ms/step - loss: 0.0549 - accuracy: 0.9886 - val_loss: 0.0193 - val_accuracy: 1.0000\n",
      "Epoch 27/100\n",
      "69/69 [==============================] - 4s 57ms/step - loss: 0.0505 - accuracy: 0.9886 - val_loss: 0.0187 - val_accuracy: 1.0000\n",
      "Epoch 28/100\n",
      "69/69 [==============================] - 4s 53ms/step - loss: 0.0545 - accuracy: 0.9864 - val_loss: 0.0198 - val_accuracy: 1.0000\n",
      "Epoch 29/100\n",
      "69/69 [==============================] - 4s 62ms/step - loss: 0.0512 - accuracy: 0.9905 - val_loss: 0.0197 - val_accuracy: 1.0000\n",
      "Epoch 30/100\n",
      "69/69 [==============================] - 5s 70ms/step - loss: 0.0538 - accuracy: 0.9895 - val_loss: 0.0215 - val_accuracy: 0.9982\n",
      "Epoch 31/100\n",
      "69/69 [==============================] - 5s 73ms/step - loss: 0.0430 - accuracy: 0.9918 - val_loss: 0.0193 - val_accuracy: 1.0000\n",
      "Epoch 32/100\n",
      "69/69 [==============================] - 5s 70ms/step - loss: 0.0551 - accuracy: 0.9882 - val_loss: 0.0223 - val_accuracy: 0.9982\n",
      "Epoch 33/100\n",
      "69/69 [==============================] - 4s 58ms/step - loss: 0.0501 - accuracy: 0.9909 - val_loss: 0.0233 - val_accuracy: 0.9982\n",
      "Epoch 34/100\n",
      "69/69 [==============================] - 6s 81ms/step - loss: 0.0389 - accuracy: 0.9950 - val_loss: 0.0197 - val_accuracy: 1.0000\n",
      "Epoch 35/100\n",
      "69/69 [==============================] - 5s 73ms/step - loss: 0.0488 - accuracy: 0.9905 - val_loss: 0.0199 - val_accuracy: 1.0000\n",
      "Epoch 36/100\n",
      "69/69 [==============================] - 4s 54ms/step - loss: 0.0402 - accuracy: 0.9941 - val_loss: 0.0228 - val_accuracy: 0.9982\n",
      "Epoch 37/100\n",
      "69/69 [==============================] - 3s 42ms/step - loss: 0.0477 - accuracy: 0.9918 - val_loss: 0.0210 - val_accuracy: 1.0000\n",
      "Epoch 38/100\n",
      "69/69 [==============================] - 3s 48ms/step - loss: 0.0588 - accuracy: 0.9886 - val_loss: 0.0200 - val_accuracy: 1.0000\n",
      "Epoch 39/100\n",
      "69/69 [==============================] - 5s 69ms/step - loss: 0.0500 - accuracy: 0.9927 - val_loss: 0.0216 - val_accuracy: 1.0000\n",
      "Epoch 40/100\n",
      "69/69 [==============================] - 5s 66ms/step - loss: 0.0518 - accuracy: 0.9882 - val_loss: 0.0213 - val_accuracy: 1.0000\n",
      "Epoch 41/100\n",
      "69/69 [==============================] - 5s 67ms/step - loss: 0.0396 - accuracy: 0.9927 - val_loss: 0.0216 - val_accuracy: 1.0000\n",
      "Epoch 42/100\n",
      "69/69 [==============================] - 6s 82ms/step - loss: 0.0347 - accuracy: 0.9945 - val_loss: 0.0205 - val_accuracy: 1.0000\n",
      "Epoch 43/100\n",
      "69/69 [==============================] - 5s 65ms/step - loss: 0.0491 - accuracy: 0.9905 - val_loss: 0.0205 - val_accuracy: 1.0000\n",
      "Epoch 44/100\n",
      "69/69 [==============================] - 5s 69ms/step - loss: 0.0517 - accuracy: 0.9895 - val_loss: 0.0212 - val_accuracy: 1.0000\n",
      "Epoch 45/100\n",
      "69/69 [==============================] - 5s 69ms/step - loss: 0.0409 - accuracy: 0.9932 - val_loss: 0.0210 - val_accuracy: 1.0000\n",
      "Epoch 46/100\n",
      "69/69 [==============================] - 5s 69ms/step - loss: 0.0454 - accuracy: 0.9928 - val_loss: 0.0217 - val_accuracy: 1.0000\n",
      "Epoch 47/100\n",
      "69/69 [==============================] - 4s 63ms/step - loss: 0.0394 - accuracy: 0.9941 - val_loss: 0.0214 - val_accuracy: 1.0000\n",
      "Epoch 48/100\n",
      "69/69 [==============================] - 4s 62ms/step - loss: 0.0385 - accuracy: 0.9945 - val_loss: 0.0220 - val_accuracy: 1.0000\n",
      "Epoch 49/100\n",
      "69/69 [==============================] - 5s 67ms/step - loss: 0.0400 - accuracy: 0.9937 - val_loss: 0.0213 - val_accuracy: 1.0000\n",
      "Epoch 50/100\n",
      "69/69 [==============================] - 4s 65ms/step - loss: 0.0400 - accuracy: 0.9932 - val_loss: 0.0213 - val_accuracy: 1.0000\n",
      "Epoch 51/100\n",
      "69/69 [==============================] - 4s 65ms/step - loss: 0.0403 - accuracy: 0.9941 - val_loss: 0.0214 - val_accuracy: 1.0000\n",
      "Epoch 52/100\n",
      "69/69 [==============================] - 4s 65ms/step - loss: 0.0387 - accuracy: 0.9945 - val_loss: 0.0215 - val_accuracy: 1.0000\n",
      "Epoch 53/100\n",
      "69/69 [==============================] - 4s 61ms/step - loss: 0.0340 - accuracy: 0.9955 - val_loss: 0.0213 - val_accuracy: 1.0000\n",
      "Epoch 54/100\n",
      "69/69 [==============================] - 4s 65ms/step - loss: 0.0341 - accuracy: 0.9964 - val_loss: 0.0220 - val_accuracy: 1.0000\n",
      "Epoch 55/100\n",
      "69/69 [==============================] - 4s 65ms/step - loss: 0.0495 - accuracy: 0.9918 - val_loss: 0.0214 - val_accuracy: 1.0000\n",
      "Epoch 56/100\n",
      "69/69 [==============================] - 4s 63ms/step - loss: 0.0471 - accuracy: 0.9936 - val_loss: 0.0218 - val_accuracy: 1.0000\n",
      "Epoch 57/100\n",
      "69/69 [==============================] - 5s 68ms/step - loss: 0.0478 - accuracy: 0.9905 - val_loss: 0.0220 - val_accuracy: 1.0000\n",
      "Epoch 58/100\n",
      "69/69 [==============================] - 4s 61ms/step - loss: 0.0423 - accuracy: 0.9932 - val_loss: 0.0221 - val_accuracy: 1.0000\n",
      "Epoch 59/100\n",
      "69/69 [==============================] - 4s 65ms/step - loss: 0.0390 - accuracy: 0.9936 - val_loss: 0.0220 - val_accuracy: 1.0000\n",
      "Epoch 60/100\n",
      "69/69 [==============================] - 4s 61ms/step - loss: 0.0419 - accuracy: 0.9936 - val_loss: 0.0221 - val_accuracy: 1.0000\n",
      "Epoch 61/100\n",
      "69/69 [==============================] - 4s 63ms/step - loss: 0.0405 - accuracy: 0.9955 - val_loss: 0.0221 - val_accuracy: 1.0000\n",
      "Epoch 62/100\n",
      "69/69 [==============================] - 5s 66ms/step - loss: 0.0417 - accuracy: 0.9945 - val_loss: 0.0224 - val_accuracy: 1.0000\n",
      "Epoch 63/100\n",
      "69/69 [==============================] - 4s 60ms/step - loss: 0.0407 - accuracy: 0.9923 - val_loss: 0.0222 - val_accuracy: 1.0000\n",
      "Epoch 64/100\n",
      "69/69 [==============================] - 5s 74ms/step - loss: 0.0437 - accuracy: 0.9909 - val_loss: 0.0231 - val_accuracy: 1.0000\n",
      "Epoch 65/100\n",
      "69/69 [==============================] - 4s 63ms/step - loss: 0.0371 - accuracy: 0.9955 - val_loss: 0.0224 - val_accuracy: 1.0000\n",
      "Epoch 66/100\n",
      "69/69 [==============================] - 5s 65ms/step - loss: 0.0435 - accuracy: 0.9950 - val_loss: 0.0224 - val_accuracy: 1.0000\n",
      "Epoch 67/100\n",
      "69/69 [==============================] - 4s 53ms/step - loss: 0.0400 - accuracy: 0.9932 - val_loss: 0.0223 - val_accuracy: 1.0000\n",
      "Epoch 68/100\n",
      "69/69 [==============================] - 4s 56ms/step - loss: 0.0462 - accuracy: 0.9923 - val_loss: 0.0225 - val_accuracy: 1.0000\n",
      "Epoch 69/100\n",
      "69/69 [==============================] - 4s 58ms/step - loss: 0.0367 - accuracy: 0.9945 - val_loss: 0.0226 - val_accuracy: 1.0000\n",
      "Epoch 70/100\n",
      "69/69 [==============================] - 3s 50ms/step - loss: 0.0339 - accuracy: 0.9964 - val_loss: 0.0233 - val_accuracy: 1.0000\n",
      "Epoch 71/100\n",
      "69/69 [==============================] - 4s 53ms/step - loss: 0.0404 - accuracy: 0.9932 - val_loss: 0.0232 - val_accuracy: 1.0000\n",
      "Epoch 72/100\n",
      "69/69 [==============================] - 4s 55ms/step - loss: 0.0455 - accuracy: 0.9914 - val_loss: 0.0228 - val_accuracy: 1.0000\n",
      "Epoch 73/100\n",
      "69/69 [==============================] - 3s 43ms/step - loss: 0.0410 - accuracy: 0.9950 - val_loss: 0.0227 - val_accuracy: 1.0000\n",
      "Epoch 74/100\n",
      "69/69 [==============================] - 4s 58ms/step - loss: 0.0464 - accuracy: 0.9936 - val_loss: 0.0226 - val_accuracy: 1.0000\n",
      "Epoch 75/100\n",
      "69/69 [==============================] - 4s 63ms/step - loss: 0.0474 - accuracy: 0.9909 - val_loss: 0.0231 - val_accuracy: 1.0000\n",
      "Epoch 76/100\n",
      "69/69 [==============================] - 5s 66ms/step - loss: 0.0476 - accuracy: 0.9914 - val_loss: 0.0249 - val_accuracy: 0.9982\n",
      "Epoch 77/100\n",
      "69/69 [==============================] - 5s 65ms/step - loss: 0.0474 - accuracy: 0.9905 - val_loss: 0.0234 - val_accuracy: 1.0000\n",
      "Epoch 78/100\n",
      "69/69 [==============================] - 5s 67ms/step - loss: 0.0346 - accuracy: 0.9959 - val_loss: 0.0254 - val_accuracy: 0.9982\n",
      "Epoch 79/100\n",
      "69/69 [==============================] - 5s 65ms/step - loss: 0.0399 - accuracy: 0.9936 - val_loss: 0.0231 - val_accuracy: 1.0000\n",
      "Epoch 80/100\n",
      "69/69 [==============================] - 5s 66ms/step - loss: 0.0492 - accuracy: 0.9914 - val_loss: 0.0279 - val_accuracy: 0.9982\n",
      "Epoch 81/100\n",
      "69/69 [==============================] - 5s 67ms/step - loss: 0.0392 - accuracy: 0.9936 - val_loss: 0.0246 - val_accuracy: 1.0000\n",
      "Epoch 82/100\n",
      "69/69 [==============================] - 4s 63ms/step - loss: 0.0414 - accuracy: 0.9941 - val_loss: 0.0236 - val_accuracy: 1.0000\n",
      "Epoch 83/100\n",
      "69/69 [==============================] - 5s 68ms/step - loss: 0.0462 - accuracy: 0.9900 - val_loss: 0.0239 - val_accuracy: 1.0000\n",
      "Epoch 84/100\n",
      "69/69 [==============================] - 5s 66ms/step - loss: 0.0383 - accuracy: 0.9941 - val_loss: 0.0246 - val_accuracy: 1.0000\n",
      "Epoch 85/100\n",
      "69/69 [==============================] - 4s 64ms/step - loss: 0.0378 - accuracy: 0.9959 - val_loss: 0.0235 - val_accuracy: 1.0000\n",
      "Epoch 86/100\n",
      "69/69 [==============================] - 5s 75ms/step - loss: 0.0412 - accuracy: 0.9950 - val_loss: 0.0235 - val_accuracy: 1.0000\n",
      "Epoch 87/100\n",
      "69/69 [==============================] - 5s 70ms/step - loss: 0.0312 - accuracy: 0.9982 - val_loss: 0.0236 - val_accuracy: 1.0000\n",
      "Epoch 88/100\n",
      "69/69 [==============================] - 4s 64ms/step - loss: 0.0412 - accuracy: 0.9932 - val_loss: 0.0253 - val_accuracy: 0.9982\n",
      "Epoch 89/100\n",
      "69/69 [==============================] - 4s 63ms/step - loss: 0.0317 - accuracy: 0.9977 - val_loss: 0.0242 - val_accuracy: 1.0000\n",
      "Epoch 90/100\n",
      "69/69 [==============================] - 5s 66ms/step - loss: 0.0470 - accuracy: 0.9923 - val_loss: 0.0249 - val_accuracy: 0.9982\n",
      "Epoch 91/100\n",
      "69/69 [==============================] - 5s 67ms/step - loss: 0.0380 - accuracy: 0.9945 - val_loss: 0.0234 - val_accuracy: 1.0000\n",
      "Epoch 92/100\n",
      "69/69 [==============================] - 5s 67ms/step - loss: 0.0320 - accuracy: 0.9982 - val_loss: 0.0231 - val_accuracy: 1.0000\n",
      "Epoch 93/100\n",
      "69/69 [==============================] - 5s 67ms/step - loss: 0.0331 - accuracy: 0.9964 - val_loss: 0.0230 - val_accuracy: 1.0000\n",
      "Epoch 94/100\n",
      "69/69 [==============================] - 5s 69ms/step - loss: 0.0353 - accuracy: 0.9964 - val_loss: 0.0230 - val_accuracy: 1.0000\n",
      "Epoch 95/100\n",
      "69/69 [==============================] - 5s 69ms/step - loss: 0.0368 - accuracy: 0.9955 - val_loss: 0.0233 - val_accuracy: 1.0000\n",
      "Epoch 96/100\n",
      "69/69 [==============================] - 5s 67ms/step - loss: 0.0345 - accuracy: 0.9973 - val_loss: 0.0232 - val_accuracy: 1.0000\n",
      "Epoch 97/100\n",
      "69/69 [==============================] - 4s 61ms/step - loss: 0.0341 - accuracy: 0.9968 - val_loss: 0.0226 - val_accuracy: 1.0000\n",
      "Epoch 98/100\n",
      "69/69 [==============================] - 5s 67ms/step - loss: 0.0411 - accuracy: 0.9950 - val_loss: 0.0255 - val_accuracy: 0.9982\n",
      "Epoch 99/100\n",
      "69/69 [==============================] - 5s 67ms/step - loss: 0.0332 - accuracy: 0.9973 - val_loss: 0.0227 - val_accuracy: 1.0000\n",
      "Epoch 100/100\n",
      "69/69 [==============================] - 5s 66ms/step - loss: 0.0485 - accuracy: 0.9914 - val_loss: 0.0294 - val_accuracy: 0.9982\n"
     ]
    }
   ],
   "source": [
    "model.compile(optimizer='adam',\n",
    "              loss=tf.keras.losses.CategoricalCrossentropy(),\n",
    "              metrics=['accuracy'])\n",
    "\n",
    "history = model.fit_generator(\n",
    "    train_data_gen,\n",
    "    steps_per_epoch=train_data_gen.samples // batch_size,\n",
    "    epochs=epochs,\n",
    "    validation_data=val_data_gen,\n",
    "    validation_steps=val_data_gen.samples // batch_size,\n",
    "    callbacks=[tensorboard_callback, cm_callback]\n",
    ")"
   ]
  },
  {
   "cell_type": "code",
   "execution_count": 13,
   "metadata": {},
   "outputs": [
    {
     "data": {
      "image/png": "[encoded data removed]",
      "text/plain": [
       "<Figure size 576x576 with 2 Axes>"
      ]
     },
     "metadata": {
      "needs_background": "light"
     },
     "output_type": "display_data"
    }
   ],
   "source": [
    "acc = history.history['accuracy']\n",
    "val_acc = history.history['val_accuracy']\n",
    "\n",
    "loss = history.history['loss']\n",
    "val_loss = history.history['val_loss']\n",
    "\n",
    "epochs_range = range(epochs)\n",
    "\n",
    "plt.figure(figsize=(8, 8))\n",
    "plt.subplot(1, 2, 1)\n",
    "plt.plot(epochs_range, acc, label='Training Accuracy')\n",
    "plt.plot(epochs_range, val_acc, label='Validation Accuracy')\n",
    "plt.legend(loc='lower right')\n",
    "plt.title('Training and Validation Accuracy')\n",
    "\n",
    "plt.subplot(1, 2, 2)\n",
    "plt.plot(epochs_range, loss, label='Training Loss')\n",
    "plt.plot(epochs_range, val_loss, label='Validation Loss')\n",
    "plt.legend(loc='upper right')\n",
    "plt.title('Training and Validation Loss')\n",
    "plt.show()"
   ]
  },
  {
   "cell_type": "code",
   "execution_count": 14,
   "metadata": {},
   "outputs": [
    {
     "name": "stdout",
     "output_type": "stream",
     "text": [
      "INFO:tensorflow:Assets written to: trained.model\\assets\n"
     ]
    }
   ],
   "source": [
    "model.save(\"trained.model\")"
   ]
  },
  {
   "cell_type": "markdown",
   "metadata": {},
   "source": [
    "# Train on all the available data for our final model"
   ]
  },
  {
   "cell_type": "code",
   "execution_count": 16,
   "metadata": {},
   "outputs": [
    {
     "name": "stdout",
     "output_type": "stream",
     "text": [
      "Found 3096 images belonging to 9 classes.\n"
     ]
    }
   ],
   "source": [
    "all_data_gen = augmented_image_gen.flow_from_directory(batch_size=batch_size,\n",
    "                                                     directory=\"all_data\",\n",
    "                                                     color_mode=\"grayscale\",\n",
    "                                                     shuffle=True,\n",
    "                                                     target_size=(IMG_HEIGHT, IMG_WIDTH),\n",
    "                                                     class_mode=\"categorical\")"
   ]
  },
  {
   "cell_type": "code",
   "execution_count": 17,
   "metadata": {},
   "outputs": [
    {
     "name": "stderr",
     "output_type": "stream",
     "text": [
      "C:\\Users\\admin\\AppData\\Local\\Temp\\ipykernel_1536\\1084889071.py:1: UserWarning: `Model.fit_generator` is deprecated and will be removed in a future version. Please use `Model.fit`, which supports generators.\n",
      "  all_history = model.fit_generator(\n"
     ]
    },
    {
     "name": "stdout",
     "output_type": "stream",
     "text": [
      "Epoch 1/50\n",
      "69/69 [==============================] - 13s 197ms/step - loss: 0.0338 - accuracy: 0.9964\n",
      "Epoch 2/50\n",
      "69/69 [==============================] - 5s 73ms/step - loss: 0.0423 - accuracy: 0.9941\n",
      "Epoch 3/50\n",
      "69/69 [==============================] - 3s 45ms/step - loss: 0.0329 - accuracy: 0.9973\n",
      "Epoch 4/50\n",
      "69/69 [==============================] - 3s 42ms/step - loss: 0.0386 - accuracy: 0.9936\n",
      "Epoch 5/50\n",
      "69/69 [==============================] - 3s 38ms/step - loss: 0.0327 - accuracy: 0.9977\n",
      "Epoch 6/50\n",
      "69/69 [==============================] - 3s 44ms/step - loss: 0.0312 - accuracy: 0.9977\n",
      "Epoch 7/50\n",
      "69/69 [==============================] - 3s 37ms/step - loss: 0.0356 - accuracy: 0.9950\n",
      "Epoch 8/50\n",
      "69/69 [==============================] - 2s 34ms/step - loss: 0.0390 - accuracy: 0.9923\n",
      "Epoch 9/50\n",
      "69/69 [==============================] - 2s 32ms/step - loss: 0.0454 - accuracy: 0.9927\n",
      "Epoch 10/50\n",
      "69/69 [==============================] - 2s 32ms/step - loss: 0.0492 - accuracy: 0.9918\n",
      "Epoch 11/50\n",
      "69/69 [==============================] - 3s 36ms/step - loss: 0.0328 - accuracy: 0.9964\n",
      "Epoch 12/50\n",
      "69/69 [==============================] - 3s 36ms/step - loss: 0.0474 - accuracy: 0.9918\n",
      "Epoch 13/50\n",
      "69/69 [==============================] - 3s 38ms/step - loss: 0.0502 - accuracy: 0.9923\n",
      "Epoch 14/50\n",
      "69/69 [==============================] - 3s 37ms/step - loss: 0.0397 - accuracy: 0.9968\n",
      "Epoch 15/50\n",
      "69/69 [==============================] - 2s 34ms/step - loss: 0.0330 - accuracy: 0.9973\n",
      "Epoch 16/50\n",
      "69/69 [==============================] - 2s 33ms/step - loss: 0.0361 - accuracy: 0.9955\n",
      "Epoch 17/50\n",
      "69/69 [==============================] - 2s 33ms/step - loss: 0.0402 - accuracy: 0.9950\n",
      "Epoch 18/50\n",
      "69/69 [==============================] - 2s 34ms/step - loss: 0.0301 - accuracy: 0.9977\n",
      "Epoch 19/50\n",
      "69/69 [==============================] - 2s 33ms/step - loss: 0.0339 - accuracy: 0.9968\n",
      "Epoch 20/50\n",
      "69/69 [==============================] - 2s 33ms/step - loss: 0.0336 - accuracy: 0.9959\n",
      "Epoch 21/50\n",
      "69/69 [==============================] - 2s 34ms/step - loss: 0.0384 - accuracy: 0.9955\n",
      "Epoch 22/50\n",
      "69/69 [==============================] - 2s 33ms/step - loss: 0.0379 - accuracy: 0.9955\n",
      "Epoch 23/50\n",
      "69/69 [==============================] - 2s 32ms/step - loss: 0.0359 - accuracy: 0.9959\n",
      "Epoch 24/50\n",
      "69/69 [==============================] - 2s 33ms/step - loss: 0.0489 - accuracy: 0.9895\n",
      "Epoch 25/50\n",
      "69/69 [==============================] - 2s 34ms/step - loss: 0.0465 - accuracy: 0.9896\n",
      "Epoch 26/50\n",
      "69/69 [==============================] - 2s 33ms/step - loss: 0.0418 - accuracy: 0.9936\n",
      "Epoch 27/50\n",
      "69/69 [==============================] - 2s 33ms/step - loss: 0.0367 - accuracy: 0.9959\n",
      "Epoch 28/50\n",
      "69/69 [==============================] - 2s 32ms/step - loss: 0.0355 - accuracy: 0.9950\n",
      "Epoch 29/50\n",
      "69/69 [==============================] - 2s 35ms/step - loss: 0.0429 - accuracy: 0.9955\n",
      "Epoch 30/50\n",
      "69/69 [==============================] - 2s 32ms/step - loss: 0.0385 - accuracy: 0.9950\n",
      "Epoch 31/50\n",
      "69/69 [==============================] - 2s 33ms/step - loss: 0.0349 - accuracy: 0.9964\n",
      "Epoch 32/50\n",
      "69/69 [==============================] - 2s 34ms/step - loss: 0.0310 - accuracy: 0.9973\n",
      "Epoch 33/50\n",
      "69/69 [==============================] - 2s 33ms/step - loss: 0.0398 - accuracy: 0.9964\n",
      "Epoch 34/50\n",
      "69/69 [==============================] - 2s 33ms/step - loss: 0.0454 - accuracy: 0.9941\n",
      "Epoch 35/50\n",
      "69/69 [==============================] - 2s 33ms/step - loss: 0.0455 - accuracy: 0.9936\n",
      "Epoch 36/50\n",
      "69/69 [==============================] - 2s 33ms/step - loss: 0.0369 - accuracy: 0.9964\n",
      "Epoch 37/50\n",
      "69/69 [==============================] - 2s 33ms/step - loss: 0.0400 - accuracy: 0.9955\n",
      "Epoch 38/50\n",
      "69/69 [==============================] - 2s 32ms/step - loss: 0.0344 - accuracy: 0.9964\n",
      "Epoch 39/50\n",
      "69/69 [==============================] - 2s 34ms/step - loss: 0.0316 - accuracy: 0.9982\n",
      "Epoch 40/50\n",
      "69/69 [==============================] - 2s 32ms/step - loss: 0.0333 - accuracy: 0.9955\n",
      "Epoch 41/50\n",
      "69/69 [==============================] - 2s 33ms/step - loss: 0.0298 - accuracy: 0.9991\n",
      "Epoch 42/50\n",
      "69/69 [==============================] - 2s 34ms/step - loss: 0.0357 - accuracy: 0.9959\n",
      "Epoch 43/50\n",
      "69/69 [==============================] - 2s 33ms/step - loss: 0.0449 - accuracy: 0.9932\n",
      "Epoch 44/50\n",
      "69/69 [==============================] - 2s 33ms/step - loss: 0.0335 - accuracy: 0.9968\n",
      "Epoch 45/50\n",
      "69/69 [==============================] - 2s 33ms/step - loss: 0.0340 - accuracy: 0.9946\n",
      "Epoch 46/50\n",
      "69/69 [==============================] - 3s 39ms/step - loss: 0.0296 - accuracy: 0.9982\n",
      "Epoch 47/50\n",
      "69/69 [==============================] - 2s 35ms/step - loss: 0.0387 - accuracy: 0.9946\n",
      "Epoch 48/50\n",
      "69/69 [==============================] - 2s 33ms/step - loss: 0.0415 - accuracy: 0.9932\n",
      "Epoch 49/50\n",
      "69/69 [==============================] - 2s 35ms/step - loss: 0.0433 - accuracy: 0.9928\n",
      "Epoch 50/50\n",
      "69/69 [==============================] - 2s 34ms/step - loss: 0.0359 - accuracy: 0.9959\n"
     ]
    }
   ],
   "source": [
    "all_history = model.fit_generator(\n",
    "    all_data_gen,\n",
    "    steps_per_epoch=train_data_gen.samples // batch_size,\n",
    "    epochs=50)"
   ]
  },
  {
   "cell_type": "code",
   "execution_count": 18,
   "metadata": {},
   "outputs": [
    {
     "data": {
      "image/png": "[encoded data removed]",
      "text/plain": [
       "<Figure size 1152x432 with 2 Axes>"
      ]
     },
     "metadata": {
      "needs_background": "light"
     },
     "output_type": "display_data"
    }
   ],
   "source": [
    "acc = history.history['accuracy']\n",
    "loss = history.history['loss']\n",
    "\n",
    "epochs_range = range(epochs)\n",
    "\n",
    "plt.figure(figsize=(16, 6))\n",
    "plt.subplot(1, 2, 1)\n",
    "plt.plot(epochs_range, acc, label='Training Accuracy')\n",
    "plt.legend(loc='lower right')\n",
    "plt.title('Training Accuracy')\n",
    "\n",
    "plt.subplot(1, 2, 2)\n",
    "plt.plot(epochs_range, loss, label='Training Loss')\n",
    "plt.legend(loc='upper right')\n",
    "plt.title('Training Loss')\n",
    "plt.show()"
   ]
  },
  {
   "cell_type": "code",
   "execution_count": 19,
   "metadata": {},
   "outputs": [
    {
     "name": "stdout",
     "output_type": "stream",
     "text": [
      "INFO:tensorflow:Assets written to: trained.model\\assets\n"
     ]
    }
   ],
   "source": [
    "model.save(\"trained.model\")"
   ]
  },
  {
   "cell_type": "code",
   "execution_count": 20,
   "metadata": {},
   "outputs": [],
   "source": [
    "import tensorflowjs as tfjs\n",
    "tfjs.converters.save_keras_model(model, \"tfjs_model\")"
   ]
  },
  {
   "cell_type": "code",
   "execution_count": null,
   "metadata": {},
   "outputs": [],
   "source": []
  }
 ],
 "metadata": {
  "kernelspec": {
   "display_name": "Python 3.8.5 64-bit",
   "language": "python",
   "name": "python3"
  },
  "language_info": {
   "codemirror_mode": {
    "name": "ipython",
    "version": 3
   },
   "file_extension": ".py",
   "mimetype": "text/x-python",
   "name": "python",
   "nbconvert_exporter": "python",
   "pygments_lexer": "ipython3",
   "version": "3.8.5"
  },
  "vscode": {
   "interpreter": {
    "hash": "195f7d4e7dfa36631d8b035cdcf7a97b6cf52e673cffc7538f8b1ac093d92219"
   }
  }
 },
 "nbformat": 4,
 "nbformat_minor": 4
}
