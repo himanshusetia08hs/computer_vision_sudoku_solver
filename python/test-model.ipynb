{
 "cells": [
  {
   "cell_type": "code",
   "execution_count": 1,
   "metadata": {},
   "outputs": [
    {
     "name": "stdout",
     "output_type": "stream",
     "text": [
      "2.8.0\n"
     ]
    }
   ],
   "source": [
    "import tensorflow as tf\n",
    "from tensorflow import keras\n",
    "from keras.preprocessing.image import ImageDataGenerator\n",
    "import matplotlib.pyplot as plt\n",
    "from itertools import compress\n",
    "print(tf.version.VERSION)"
   ]
  },
  {
   "cell_type": "code",
   "execution_count": 2,
   "metadata": {},
   "outputs": [],
   "source": [
    "model =  keras.models.load_model(\"trained.model\")"
   ]
  },
  {
   "cell_type": "code",
   "execution_count": 3,
   "metadata": {},
   "outputs": [],
   "source": [
    "IMG_HEIGHT = 20\n",
    "IMG_WIDTH = 20"
   ]
  },
  {
   "cell_type": "code",
   "execution_count": 5,
   "metadata": {},
   "outputs": [
    {
     "name": "stdout",
     "output_type": "stream",
     "text": [
      "Found 3096 images belonging to 9 classes.\n"
     ]
    }
   ],
   "source": [
    "normal_image_gen = ImageDataGenerator(\n",
    "    samplewise_center=True,\n",
    "    samplewise_std_normalization=True\n",
    ")\n",
    "test_data_gen = normal_image_gen.flow_from_directory(batch_size=5193,\n",
    "                                                     directory=\"all_data\",\n",
    "                                                     color_mode=\"grayscale\",\n",
    "                                                     shuffle=False,\n",
    "                                                     target_size=(IMG_HEIGHT, IMG_WIDTH),\n",
    "                                                     class_mode=\"categorical\")"
   ]
  },
  {
   "cell_type": "code",
   "execution_count": 6,
   "metadata": {},
   "outputs": [],
   "source": [
    "test_images, test_labels = next(test_data_gen)\n",
    "filenames = test_data_gen.filenames\n",
    "test_pred = model.predict(test_images)"
   ]
  },
  {
   "cell_type": "code",
   "execution_count": 7,
   "metadata": {},
   "outputs": [],
   "source": [
    "true_labels = tf.argmax(test_labels,1)"
   ]
  },
  {
   "cell_type": "code",
   "execution_count": 8,
   "metadata": {},
   "outputs": [],
   "source": [
    "predicted_labels = tf.argmax(test_pred,1)"
   ]
  },
  {
   "cell_type": "code",
   "execution_count": 9,
   "metadata": {},
   "outputs": [],
   "source": [
    "wrong = (true_labels != predicted_labels)"
   ]
  },
  {
   "cell_type": "code",
   "execution_count": 10,
   "metadata": {},
   "outputs": [
    {
     "name": "stdout",
     "output_type": "stream",
     "text": [
      "Got 1 wrong\n",
      "['4\\\\1173.png']\n"
     ]
    }
   ],
   "source": [
    "wrong_images = test_images[wrong]\n",
    "wrong_true_labels = true_labels[wrong]\n",
    "wrong_prediced_labels = predicted_labels[wrong]\n",
    "print(f\"Got {wrong_images.shape[0]} wrong\")\n",
    "wrong_filenames = list(compress(filenames, wrong))\n",
    "print(wrong_filenames)"
   ]
  },
  {
   "cell_type": "code",
   "execution_count": 11,
   "metadata": {},
   "outputs": [
    {
     "data": {
      "image/png": "[encoded data removed]",
      "text/plain": [
       "<Figure size 936x1080 with 1 Axes>"
      ]
     },
     "metadata": {
      "needs_background": "light"
     },
     "output_type": "display_data"
    }
   ],
   "source": [
    "def plot_images(images, true_labels, pred_labels):\n",
    "    fig = plt.figure(figsize=(13, 15))\n",
    "    columns = 5\n",
    "    rows = 5\n",
    "\n",
    "    # ax enables access to manipulate each of subplots\n",
    "    ax = []\n",
    "\n",
    "    for i in range(min(images.shape[0], columns*rows)):\n",
    "        img = images[i]\n",
    "        # create subplot and append to ax\n",
    "        ax.append( fig.add_subplot(rows, columns, i+1) )\n",
    "        ax[-1].set_title(f\"{true_labels[i]+1} != {pred_labels[i]+1}\")\n",
    "        plt.imshow(img.reshape(IMG_WIDTH, IMG_HEIGHT), cmap=\"gray\")\n",
    "    \n",
    "    plt.show()\n",
    "\n",
    "plot_images(wrong_images, wrong_true_labels, wrong_prediced_labels)"
   ]
  },
  {
   "cell_type": "code",
   "execution_count": null,
   "metadata": {},
   "outputs": [],
   "source": []
  }
 ],
 "metadata": {
  "kernelspec": {
   "display_name": "Python 3.8.5 64-bit",
   "language": "python",
   "name": "python3"
  },
  "language_info": {
   "codemirror_mode": {
    "name": "ipython",
    "version": 3
   },
   "file_extension": ".py",
   "mimetype": "text/x-python",
   "name": "python",
   "nbconvert_exporter": "python",
   "pygments_lexer": "ipython3",
   "version": "3.8.5"
  },
  "vscode": {
   "interpreter": {
    "hash": "195f7d4e7dfa36631d8b035cdcf7a97b6cf52e673cffc7538f8b1ac093d92219"
   }
  }
 },
 "nbformat": 4,
 "nbformat_minor": 4
}
